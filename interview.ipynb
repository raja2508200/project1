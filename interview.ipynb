{
 "cells": [
  {
   "cell_type": "code",
   "execution_count": 2,
   "id": "c777ee76-2463-4367-ae0b-fe531110db33",
   "metadata": {},
   "outputs": [
    {
     "name": "stdout",
     "output_type": "stream",
     "text": [
      "David\n",
      "95\n"
     ]
    }
   ],
   "source": [
    "#maximum numbers in dic \n",
    "exam_scores1= {\n",
    "    \"Alice\": 92,\n",
    "    \"Bob\": 85,\n",
    "    \"Charlie\": 78,\n",
    "    \"David\": 95,\n",
    "    \"Eve\": 88\n",
    "}\n",
    "\n",
    "maxi=max(exam_scores1,key=exam_scores1.get)\n",
    "print(maxi)\n",
    "print(exam_scores1[maxi])\n",
    "\n"
   ]
  },
  {
   "cell_type": "code",
   "execution_count": 3,
   "id": "15abf189-08a6-43a8-9088-a336e4f5dd7d",
   "metadata": {},
   "outputs": [
    {
     "name": "stdout",
     "output_type": "stream",
     "text": [
      "90\n"
     ]
    }
   ],
   "source": [
    "l=[8,0,9,90]\n",
    "m=l[0]\n",
    "for i in l:\n",
    "    if m<=i:\n",
    "        m=i\n",
    "\n",
    "print(m)"
   ]
  },
  {
   "cell_type": "code",
   "execution_count": 4,
   "id": "bca6ffc9-d8b4-4642-a987-1ddd0351701c",
   "metadata": {},
   "outputs": [
    {
     "data": {
      "text/plain": [
       "{'David': 95}"
      ]
     },
     "execution_count": 4,
     "metadata": {},
     "output_type": "execute_result"
    }
   ],
   "source": [
    "#maximum number without using keyword\n",
    "\n",
    "exam_scores1= {\"Alice\": 92,\"Bob\": 85,\"Charlie\": 78,\"David\": 95,\"Eve\": 88}\n",
    "\n",
    "key1=\"\"\n",
    "value1=0\n",
    "output={}\n",
    "\n",
    "for i in exam_scores1.values():\n",
    "    value1=i\n",
    "    break\n",
    "\n",
    "for i,j in exam_scores1.items():\n",
    "    if value1<=j:\n",
    "        value1=j\n",
    "        key1=i\n",
    "output[key1]=value1       \n",
    "output\n"
   ]
  },
  {
   "cell_type": "code",
   "execution_count": 5,
   "id": "a3e5c10e-a238-4dda-a488-a8cadf283cf8",
   "metadata": {},
   "outputs": [
    {
     "data": {
      "text/plain": [
       "{'David': 95}"
      ]
     },
     "execution_count": 5,
     "metadata": {},
     "output_type": "execute_result"
    }
   ],
   "source": [
    "#minimum number without using keyword\n",
    "\n",
    "exam_scores1= {\n",
    "    \"Alice\": 92,\n",
    "    \"Bob\": 85,\n",
    "    \"Charlie\": 78,\n",
    "    \"David\": 95,\n",
    "    \"Eve\": 88\n",
    "}\n",
    "\n",
    "key1=\"\"\n",
    "value1=0\n",
    "output={}\n",
    "\n",
    "for i in exam_scores1.values():\n",
    "    value1=i\n",
    "    break\n",
    "\n",
    "for i,j in exam_scores1.items():\n",
    "    if value1>=j:\n",
    "        value1=j\n",
    "        key1=i\n",
    "output[key1]=value1       \n",
    "output\n"
   ]
  },
  {
   "cell_type": "code",
   "execution_count": 4,
   "id": "eae31804-e8d4-4952-923d-db5d7d37adb4",
   "metadata": {},
   "outputs": [
    {
     "name": "stdout",
     "output_type": "stream",
     "text": [
      "{'David': 95, 'Alice': 92, 'Eve': 88, 'Bob': 85, 'Charlie': 78}\n"
     ]
    }
   ],
   "source": [
    "#desending \n",
    "exam_scores = {\n",
    "    \"Alice\": 92,\n",
    "    \"Bob\": 85,\n",
    "    \"Charlie\": 78,\n",
    "    \"David\": 95,\n",
    "    \"Eve\": 88\n",
    "}\n",
    "ne={}\n",
    "for i in range(len(exam_scores)):\n",
    "    maxi=max(exam_scores,key=exam_scores.get)\n",
    "    ne[maxi]=exam_scores[maxi]\n",
    "    del exam_scores[maxi]\n",
    "print(ne)\n"
   ]
  },
  {
   "cell_type": "code",
   "execution_count": 5,
   "id": "b8f71398-c155-40be-ba38-a14620d2d970",
   "metadata": {},
   "outputs": [
    {
     "name": "stdout",
     "output_type": "stream",
     "text": [
      "{'Charlie': 78, 'Bob': 85, 'Eve': 88, 'Alice': 92, 'David': 95}\n"
     ]
    }
   ],
   "source": [
    "#asending \n",
    "exam_scores = {\n",
    "    \"Alice\": 92,\n",
    "    \"Bob\": 85,\n",
    "    \"Charlie\": 78,\n",
    "    \"David\": 95,\n",
    "    \"Eve\": 88\n",
    "}\n",
    "ne={}\n",
    "for i in range(len(exam_scores)):\n",
    "    maxi=min(exam_scores,key=exam_scores.get)\n",
    "    ne[maxi]=exam_scores[maxi]\n",
    "    del exam_scores[maxi]\n",
    "print(ne)\n"
   ]
  },
  {
   "cell_type": "code",
   "execution_count": 1,
   "id": "b8fe354b-b535-4658-9287-e78aea25e34b",
   "metadata": {},
   "outputs": [
    {
     "name": "stdout",
     "output_type": "stream",
     "text": [
      "1\n",
      "22\n",
      "2\n",
      "2\n",
      "2\n",
      "3\n",
      "45\n",
      "45\n",
      "78\n",
      "1\n",
      "{1: 2, 22: 1, 2: 3, 3: 1, 45: 2, 78: 1}\n"
     ]
    }
   ],
   "source": [
    "#count the duplictae value\n",
    "\n",
    "l=[1,22,2,2,2,3,45,45,78,1]\n",
    "new={}\n",
    "for i in l:\n",
    "    print(i)\n",
    "    if i not in new:\n",
    "        new[i]=1\n",
    "    else:\n",
    "        new[i]=new[i]+1\n",
    "        \n",
    "        \n",
    "print(new)"
   ]
  },
  {
   "cell_type": "code",
   "execution_count": 11,
   "id": "a60f4bf9-23dc-4da4-9120-13964930a2c4",
   "metadata": {},
   "outputs": [
    {
     "name": "stdout",
     "output_type": "stream",
     "text": [
      "{'Alice': 92, 'Bob': 85, 'Charlie': 78, 'David': 95, 'Eve': 88, 'raja': 92, 'mani': 85, 'siva': 78}\n",
      "{'Alice': 92, 'Bob': 85, 'Charlie': 78, 'David': 95, 'Eve': 88, 'raja': 92, 'mani': 85, 'siva': 78, 'kutty': 34, 'guna': 23}\n"
     ]
    }
   ],
   "source": [
    "#merging 2 dict\n",
    "\n",
    "a = {\n",
    "    \"Alice\": 92,\n",
    "    \"Bob\": 85,\n",
    "    \"Charlie\": 78,\n",
    "    \"David\": 95,\n",
    "    \"Eve\": 88\n",
    "}\n",
    "b = {\n",
    "    \"raja\": 92,\n",
    "    \"mani\": 85,\n",
    "    \"siva\": 78,\n",
    "\n",
    "}\n",
    "\n",
    "c={\"kutty\":34,\n",
    "  \"guna\":23}\n",
    "\n",
    "\n",
    "a.update(b)\n",
    "merged_dict = {**a, **b,**c}\n",
    "\n",
    "print(a)\n",
    "print(merged_dict)"
   ]
  },
  {
   "cell_type": "code",
   "execution_count": null,
   "id": "1d2d686a-aab8-4ef0-a79f-260b31560829",
   "metadata": {},
   "outputs": [],
   "source": [
    "#print the highest value using thershold price\n",
    "\n",
    "\n",
    "product_prices = {\n",
    "    'product1': 25.99,\n",
    "    'product2': 14.50,\n",
    "    'product3': 9.9,\n",
    "    'product4': 34.75,\n",
    "    'product5': 19.99\n",
    "}\n",
    "out={}\n",
    "\n",
    "threshold_price = 20.00\n",
    "for key,values in product_prices.items():\n",
    "    if values>threshold_price:\n",
    "        out[key]=values\n",
    "print(out)\n",
    "        "
   ]
  },
  {
   "cell_type": "code",
   "execution_count": 10,
   "id": "b707bc89-2e15-48c9-9d8e-ffd6aaf9b3dd",
   "metadata": {},
   "outputs": [
    {
     "name": "stdout",
     "output_type": "stream",
     "text": [
      "{'This': 2, 'is': 1, 'a': 1, 'sample': 2, 'text.': 1, 'text': 2, 'contains': 1, 'some': 1, 'words.': 2, 'Sample': 1, 'for': 1, 'counting': 1}\n"
     ]
    }
   ],
   "source": [
    "#count the string value \n",
    "\n",
    "text = \"This is a sample text. This text contains some sample words. Sample text for counting words.\"\n",
    "text=text.split()\n",
    "new={}\n",
    "\n",
    "\n",
    "for i in text:\n",
    "    if i in new:\n",
    "        new[i]=new[i]+1\n",
    "    else:        \n",
    "        new[i]=1\n",
    "print(new)\n",
    "    \n",
    "   \n"
   ]
  },
  {
   "cell_type": "code",
   "execution_count": 2,
   "id": "4bb549b2-11ad-4f01-9d86-baa24e1ce49a",
   "metadata": {},
   "outputs": [
    {
     "name": "stdout",
     "output_type": "stream",
     "text": [
      "['a', 'c', 'e', 'i', 'm', 'n']\n",
      "['a', 'c', 'e', 'i', 'm', 'n']\n",
      "its anagram\n"
     ]
    }
   ],
   "source": [
    "\n",
    "#anagram code\n",
    "word1 = \"cinema\"\n",
    "word = \"icnema\"\n",
    "word=word.lower()\n",
    "l1=sorted(word)\n",
    "word1=word1.lower()\n",
    "l2=sorted(word1)\n",
    "print(l1)\n",
    "print(l2)\n",
    "if l1==l2:\n",
    "    print(\"its anagram\")\n",
    "else:\n",
    "    print(\"no\")"
   ]
  },
  {
   "cell_type": "code",
   "execution_count": null,
   "id": "55c6dfc9-065d-48b6-9f7c-5feb62baadc1",
   "metadata": {},
   "outputs": [],
   "source": [
    "#anagram using string\n",
    "\n",
    "\n",
    "import string\n",
    "def are_anagrams(word1, word2):\n",
    "    w1=''.join(word1.split())\n",
    "    w2=''.join(word2.split())\n",
    "    translator = str.maketrans( '','', string.punctuation)\n",
    "    r1 = w1.translate(translator)\n",
    "    r2 = w2.translate(translator)\n",
    "    r1=r1.lower()\n",
    "    r2=r2.lower()\n",
    "    r1=sorted(r1)\n",
    "    r2=sorted(r2)\n",
    "    if r1 == r2:\n",
    "        print(\"its anagram\")\n",
    "    else:\n",
    "        print(\"not a anagram\")\n",
    "        \n",
    "are_anagrams(\"Astronomer\", \"Moon starer\")"
   ]
  },
  {
   "cell_type": "code",
   "execution_count": 8,
   "id": "eac4deec-5184-48d3-9666-f50cfbc480e6",
   "metadata": {},
   "outputs": [
    {
     "name": "stdout",
     "output_type": "stream",
     "text": [
      "[100, 45, 67, 78, 5, 98, 56]\n",
      "[100, 45, 67, 78, 5, 98, 56]\n",
      "[100, 45, 67, 78, 5, 98, 56]\n",
      "[100, 45, 67, 78, 5, 98, 56]\n",
      "[100, 45, 67, 78, 5, 98, 56]\n",
      "[100, 45, 67, 78, 5, 98, 56]\n",
      "[100, 45, 67, 78, 5, 98, 56]\n",
      "[100, 45, 67, 78, 5, 98, 56]\n",
      "[45, 100, 67, 78, 5, 98, 56]\n",
      "[45, 100, 67, 78, 5, 98, 56]\n",
      "[45, 100, 67, 78, 5, 98, 56]\n",
      "[45, 100, 67, 78, 5, 98, 56]\n",
      "[45, 100, 67, 78, 5, 98, 56]\n",
      "[45, 100, 67, 78, 5, 98, 56]\n",
      "[45, 100, 67, 78, 5, 98, 56]\n",
      "[45, 100, 67, 78, 5, 98, 56]\n",
      "[45, 67, 100, 78, 5, 98, 56]\n",
      "[45, 67, 100, 78, 5, 98, 56]\n",
      "[45, 67, 100, 78, 5, 98, 56]\n",
      "[45, 67, 100, 78, 5, 98, 56]\n",
      "[45, 67, 100, 78, 5, 98, 56]\n",
      "[45, 67, 100, 78, 5, 98, 56]\n",
      "[45, 67, 100, 78, 5, 98, 56]\n",
      "[45, 67, 100, 78, 5, 98, 56]\n",
      "[45, 67, 78, 100, 5, 98, 56]\n",
      "[45, 67, 78, 100, 5, 98, 56]\n",
      "[45, 67, 78, 100, 5, 98, 56]\n",
      "[45, 67, 78, 100, 5, 98, 56]\n",
      "[45, 67, 78, 100, 5, 98, 56]\n",
      "[5, 67, 78, 100, 45, 98, 56]\n",
      "[5, 45, 78, 100, 67, 98, 56]\n",
      "[5, 45, 67, 100, 78, 98, 56]\n",
      "[5, 45, 67, 78, 100, 98, 56]\n",
      "[5, 45, 67, 78, 100, 98, 56]\n",
      "[5, 45, 67, 78, 100, 98, 56]\n",
      "[5, 45, 67, 78, 100, 98, 56]\n",
      "[5, 45, 67, 78, 100, 98, 56]\n",
      "[5, 45, 67, 78, 100, 98, 56]\n",
      "[5, 45, 67, 78, 100, 98, 56]\n",
      "[5, 45, 67, 78, 100, 98, 56]\n",
      "[5, 45, 67, 78, 98, 100, 56]\n",
      "[5, 45, 67, 78, 98, 100, 56]\n",
      "[5, 45, 67, 78, 98, 100, 56]\n",
      "[5, 45, 67, 78, 98, 100, 56]\n",
      "[5, 45, 67, 78, 98, 100, 56]\n",
      "[5, 45, 56, 78, 98, 100, 67]\n",
      "[5, 45, 56, 67, 98, 100, 78]\n",
      "[5, 45, 56, 67, 78, 100, 98]\n",
      "[5, 45, 56, 67, 78, 98, 100]\n",
      "[5, 45, 56, 67, 78, 98, 100]\n"
     ]
    }
   ],
   "source": [
    "#ASCENDING\n",
    "\n",
    "numbers = [100, 45, 67, 78, 5,98,56]\n",
    "for i in  range (len(numbers)):\n",
    "    for  j in range(len(numbers)):\n",
    "        #print(numbers[i],numbers[j])\n",
    "        #print(numbers)\n",
    "        if numbers[i]<numbers[j]:\n",
    "            numbers[i],numbers[j]= numbers[j],numbers[i]\n",
    "print(numbers)\n"
   ]
  },
  {
   "cell_type": "code",
   "execution_count": 7,
   "id": "fa96759c-e3fb-4cb7-a019-62bc06b36045",
   "metadata": {},
   "outputs": [
    {
     "name": "stdout",
     "output_type": "stream",
     "text": [
      "[98, 56, 5, 4, 3, 2, 1]\n"
     ]
    }
   ],
   "source": [
    "#DSCENDING\n",
    "\n",
    "numbers = [1, 2, 3, 4, 5,98,56]\n",
    "for i in  range (len(numbers)):\n",
    "    for  j in range(len(numbers)):\n",
    "        if numbers[i]>numbers[j]:\n",
    "            numbers[i],numbers[j]= numbers[j],numbers[i]\n",
    "print(numbers)\n"
   ]
  },
  {
   "cell_type": "code",
   "execution_count": 2,
   "id": "24d689d3-5a16-42ca-a1b2-ced41eec6cff",
   "metadata": {},
   "outputs": [
    {
     "name": "stdin",
     "output_type": "stream",
     "text": [
      "enter the number 10\n"
     ]
    },
    {
     "name": "stdout",
     "output_type": "stream",
     "text": [
      "[0, 1, 1, 2, 3, 5, 8]\n"
     ]
    }
   ],
   "source": [
    "#fibonacci series\n",
    "\n",
    "a=0\n",
    "b=1\n",
    "c=[]\n",
    "n=int(input(\"enter the number\"))\n",
    "while a<=n:\n",
    "    d=a+b\n",
    "    c.append(a)\n",
    "    a,b=b,d\n",
    "print(c)\n",
    "  "
   ]
  },
  {
   "cell_type": "code",
   "execution_count": 3,
   "id": "fe1d24c3-2f9c-4b8d-818c-817d3c916dd0",
   "metadata": {},
   "outputs": [
    {
     "name": "stdout",
     "output_type": "stream",
     "text": [
      "112311\n"
     ]
    }
   ],
   "source": [
    "#replace integer value\n",
    "\n",
    "a = 102301\n",
    "a_str = str(a)  \n",
    "a_str_modified = a_str.replace('0', '1')  \n",
    "result = int(a_str_modified)  \n",
    "print(result)\n",
    "    \n",
    "    "
   ]
  },
  {
   "cell_type": "code",
   "execution_count": null,
   "id": "a4fa4aee-7997-46d8-866b-1ef96649bd96",
   "metadata": {},
   "outputs": [],
   "source": [
    "import sqlite3\n",
    "\n",
    "# Dictionary containing item details\n",
    "items = {\n",
    "    'tomato': [5, 'kg', 150, 'rupees'],\n",
    "    'onion': [3, 'kg', 150, 'rupees']\n",
    "}\n",
    "\n",
    "# Mobile numbe\n",
    "table_name =customer_id_\"908031223\"\n",
    "\n",
    "# Create a SQLite database connection\n",
    "conn = sqlite3.connect('items.db')\n",
    "\n",
    "# Create a cursor object\n",
    "cursor = conn.cursor()\n",
    "\n",
    "# Create a table (if not exists)\n",
    "cursor.execute(\"CREATE TABLE IF NOT EXISTS {} (item TEXT, quantity INTEGER, unit TEXT, price INTEGER, currency TEXT)\".format(table_name))\n",
    "# Insert data into the table\n",
    "for item, details in items.items():\n",
    "    cursor.execute(f\"INSERT INTO {table_name} (item, quantity, unit, price, currency) VALUES (?, ?, ?, ?, ?)\",\n",
    "                   (item, details[0], details[1], details[2], details[3]))\n",
    "\n",
    "# Commit changes\n",
    "conn.commit()\n",
    "\n",
    "# Close connection\n",
    "conn.close()\n"
   ]
  },
  {
   "cell_type": "code",
   "execution_count": 11,
   "id": "03b6582a-c31e-4f1c-9579-72c4635b638a",
   "metadata": {},
   "outputs": [
    {
     "name": "stdout",
     "output_type": "stream",
     "text": [
      "uiol2M\n"
     ]
    }
   ],
   "source": [
    "k=\"uiol2m\"\n",
    "k = k[:-1] + k[-1].upper()  # Capitalize the last character\n",
    "print(k)\n"
   ]
  },
  {
   "cell_type": "code",
   "execution_count": 8,
   "id": "0e427930-ad97-4723-98aa-57868abdece5",
   "metadata": {},
   "outputs": [
    {
     "data": {
      "text/plain": [
       "'787JKM'"
      ]
     },
     "execution_count": 8,
     "metadata": {},
     "output_type": "execute_result"
    }
   ],
   "source": [
    "k=\"787jkm\"\n",
    "k.upper()"
   ]
  },
  {
   "cell_type": "code",
   "execution_count": null,
   "id": "b8f8932b-001d-41c4-9bb7-488487b47e4b",
   "metadata": {},
   "outputs": [],
   "source": [
    "#count the duplictae value\n",
    "\n",
    "l=[1,22,2,2,2,3,45,45,78,1]\n",
    "new={}\n",
    "for i in l:\n",
    "    if i not in new:\n",
    "        new[i]=1\n",
    "    else:\n",
    "        new[i]=new[i]+1\n",
    "        \n",
    "        \n",
    "print(new)"
   ]
  },
  {
   "cell_type": "code",
   "execution_count": 1,
   "id": "9a7bf912-5ec5-4362-a769-46e48fcc32b3",
   "metadata": {},
   "outputs": [
    {
     "name": "stdout",
     "output_type": "stream",
     "text": [
      "[2, 4, 6, 8, 10, 12, 14, 16, 18, 20, 22, 24, 26, 28, 30, 32, 34, 36, 38, 40, 42, 44, 46, 48, 50, 52, 54, 56, 58, 60, 62, 64, 66, 68, 70, 72, 74, 76, 78, 80, 82, 84, 86, 88, 90, 92, 94, 96, 98, 100]\n",
      "[1, 3, 5, 7, 9, 11, 13, 15, 17, 19, 21, 23, 25, 27, 29, 31, 33, 35, 37, 39, 41, 43, 45, 47, 49, 51, 53, 55, 57, 59, 61, 63, 65, 67, 69, 71, 73, 75, 77, 79, 81, 83, 85, 87, 89, 91, 93, 95, 97, 99]\n"
     ]
    }
   ],
   "source": [
    "#odd or even\n",
    "even=[]\n",
    "odd=[]\n",
    "for i  in range(1,101):\n",
    "    if i%2==0:\n",
    "        even.append(i)\n",
    "    else:\n",
    "        odd.append(i)\n",
    "\n",
    "print(even)\n",
    "print(odd)"
   ]
  },
  {
   "cell_type": "code",
   "execution_count": null,
   "id": "fccd57d8-9d4d-4c53-a462-8aa4cb49f959",
   "metadata": {},
   "outputs": [],
   "source": [
    "#max min\n",
    "\n",
    "f=[1,3,4,5,112,3,4,5]\n",
    "max_num=f[0]\n",
    "min_num=f[0]\n",
    "for i in f:\n",
    "    if i<max_num:\n",
    "        max_num=i\n",
    "    if i>min_num:\n",
    "        min_num=i\n",
    "print(min_num,\"min_num\")\n",
    "print(max_num,\"max_num\")\n",
    "      \n",
    "        "
   ]
  },
  {
   "cell_type": "code",
   "execution_count": null,
   "id": "4b33843e-ef37-4997-b05a-02b7109a6be8",
   "metadata": {},
   "outputs": [],
   "source": [
    "#descending\n",
    "f=[1,3,4,5,11278,44,66,90,1]\n",
    "for i in range(len(f)):\n",
    "    for j in range(len(f)):\n",
    "        if f[i]>f[j]:\n",
    "            f[i],f[j]=f[j],f[i]\n",
    "print(f)\n",
    "    "
   ]
  },
  {
   "cell_type": "code",
   "execution_count": null,
   "id": "e838d31b-bb55-4d84-b702-47becba87777",
   "metadata": {},
   "outputs": [],
   "source": [
    "#ascending\n",
    "\n",
    "f=[1,3,4,5,11278,44,66,90,1]\n",
    "for i in range(len(f)):\n",
    "    for j in range(len(f)):\n",
    "        if f[i]<f[j]:\n",
    "            f[i],f[j]=f[j],f[i]\n",
    "print(f)"
   ]
  },
  {
   "cell_type": "code",
   "execution_count": 3,
   "id": "cd1705e5-06ce-445c-90fd-ca075d64ea02",
   "metadata": {},
   "outputs": [
    {
     "name": "stdout",
     "output_type": "stream",
     "text": [
      "true\n"
     ]
    }
   ],
   "source": [
    "#patter based\n",
    "\n",
    "pattern = \"abba\"\n",
    "s = \"dog cat cat dog\"\n",
    "words = s.split()\n",
    "if len(words)==len(pattern):\n",
    "    if len(set(words))==len(set(pattern)):\n",
    "        paired = list(zip(pattern, words))\n",
    "        if len(set(pattern))==len(set(paired)):\n",
    "            print(\"true\")\n",
    "        else:\n",
    "            print(\"false\")\n",
    "    else:\n",
    "        print(\"false\")\n"
   ]
  },
  {
   "cell_type": "code",
   "execution_count": null,
   "id": "63ef8343-d6e4-46ee-8816-886952290aec",
   "metadata": {},
   "outputs": [],
   "source": [
    "import pandas as pd\n",
    "\n",
    "k=[[1,4],[2,5],[3,7],[4, 20]]\n",
    "\n",
    "data=pd.DataFrame(k,columns=[\"studentId\",\"age\"])\n",
    "print(data)\n"
   ]
  },
  {
   "cell_type": "code",
   "execution_count": 2,
   "id": "e32a11d8-c7b0-4d3a-bd27-5b4c08ce23ec",
   "metadata": {},
   "outputs": [
    {
     "name": "stdout",
     "output_type": "stream",
     "text": [
      "            mail\n",
      "0  a@example.com\n",
      "1  b@example.com\n",
      "3  c@example.com\n",
      "4  d@example.com\n"
     ]
    }
   ],
   "source": [
    "# drop duplicactes by using pandas\n",
    "\n",
    "\n",
    "import pandas as pd\n",
    "\n",
    "# Sample DataFrame\n",
    "data = {\n",
    "    'mail': ['a@example.com', 'b@example.com', 'a@example.com', 'c@example.com', 'd@example.com', 'b@example.com']\n",
    "}\n",
    "df = pd.DataFrame(data)\n",
    "filter1 = df.drop_duplicates(\"mail\")\n",
    "\n",
    "print(filter1)\n"
   ]
  },
  {
   "cell_type": "code",
   "execution_count": 7,
   "id": "158c3328-1cb2-43e4-a471-f5792fb8a9c5",
   "metadata": {},
   "outputs": [
    {
     "name": "stdout",
     "output_type": "stream",
     "text": [
      "1994\n"
     ]
    }
   ],
   "source": [
    "#roman letters\n",
    "\n",
    "d = {\"I\": 1, \"V\": 5, \"X\": 10, \"L\": 50, \"C\": 100, \"D\": 500, \"M\": 1000}\n",
    "c = \"MCMXCIV\"\n",
    "output = 0\n",
    "prev_value = 0\n",
    "\n",
    "for char in c:\n",
    "    current_value = d[char]\n",
    "    if current_value > prev_value:\n",
    "        output += current_value - 2 * prev_value\n",
    "    else:\n",
    "        output += current_value\n",
    "    prev_value = current_value\n",
    "\n",
    "print(output)\n"
   ]
  },
  {
   "cell_type": "code",
   "execution_count": 2,
   "id": "490790c6-697e-44c8-b7d9-3df8ab8232a3",
   "metadata": {},
   "outputs": [
    {
     "name": "stdout",
     "output_type": "stream",
     "text": [
      "3\n"
     ]
    }
   ],
   "source": [
    "#find the len of list\n",
    "k=[2,3,4,5,6,7]\n",
    "n=5\n",
    "for i in range(len(k)):\n",
    "    if k[i]==n:\n",
    "        print(i)"
   ]
  },
  {
   "cell_type": "code",
   "execution_count": 4,
   "id": "1b4573bb-ed01-4cf8-8b4d-62efe9672c64",
   "metadata": {},
   "outputs": [
    {
     "name": "stdout",
     "output_type": "stream",
     "text": [
      "[1, 2, 3]\n"
     ]
    }
   ],
   "source": [
    "#remove duplicate\n",
    "\n",
    "k1=[1,2,3,1,2,3]\n",
    "l=[]\n",
    "for i in k1:\n",
    "    if i not in l:\n",
    "        l.append(i)\n",
    "print(l)"
   ]
  },
  {
   "cell_type": "code",
   "execution_count": 2,
   "id": "ad61d8e1-9f20-49be-b166-b94e3059bf66",
   "metadata": {},
   "outputs": [
    {
     "name": "stdout",
     "output_type": "stream",
     "text": [
      "[35, 77, 55]\n"
     ]
    }
   ],
   "source": [
    "l1=[35,78.33,77,90,55]\n",
    "l2=[35,7.2,77,4,55,6]\n",
    "l3=[]\n",
    "for i in l1:\n",
    "    if i in l2:\n",
    "        l3.append(i)\n",
    "print(l3)"
   ]
  },
  {
   "cell_type": "code",
   "execution_count": 3,
   "id": "831d9920-b6e9-4411-b4d8-baf20724e017",
   "metadata": {},
   "outputs": [
    {
     "name": "stdout",
     "output_type": "stream",
     "text": [
      "[35, 77, 55]\n"
     ]
    }
   ],
   "source": [
    "l1 = [35, 78.33, 77, 90, 55]\n",
    "l2 = [35, 7.2, 77, 4, 55, 6]\n",
    "\n",
    "common_values = list(set(l1) & set(l2))\n",
    "print(common_values)\n"
   ]
  },
  {
   "cell_type": "code",
   "execution_count": 6,
   "id": "f3b3b86d-9334-49dc-9db3-ad01be4adf10",
   "metadata": {},
   "outputs": [
    {
     "name": "stdout",
     "output_type": "stream",
     "text": [
      "[(1, 23), (2, 6), (3, 78), (4, 90)]\n"
     ]
    }
   ],
   "source": [
    "list1=[1,2,3,4]\n",
    "list2=[23,6,78,90]\n",
    "print(list(zip(list1,list2)))"
   ]
  },
  {
   "cell_type": "code",
   "execution_count": 13,
   "id": "0d354e6d-e9a2-4b43-81a0-8ed59b17900b",
   "metadata": {},
   "outputs": [
    {
     "name": "stdout",
     "output_type": "stream",
     "text": [
      "\n",
      "* \n",
      "* * \n",
      "* * * \n",
      "* * * * \n",
      "* * * * * \n"
     ]
    }
   ],
   "source": [
    "n=6\n",
    "for i in range(n):\n",
    "    for j in range(i):\n",
    "        print(\"*\",end=\" \")\n",
    "    print()"
   ]
  },
  {
   "cell_type": "code",
   "execution_count": 27,
   "id": "4fbaa7c8-c1ba-432f-8b97-86e458b06ee7",
   "metadata": {},
   "outputs": [
    {
     "name": "stdout",
     "output_type": "stream",
     "text": [
      "     * \n",
      "    * * \n",
      "   * * * \n",
      "  * * * * \n",
      " * * * * * \n",
      "* * * * * * \n"
     ]
    }
   ],
   "source": [
    "n = 6  \n",
    "\n",
    "for i in range(1, n + 1):\n",
    "    # print(i)\n",
    "    print(\" \" * (n - i), end=\"\")  \n",
    "    print(\"* \" * i)  \n"
   ]
  },
  {
   "cell_type": "code",
   "execution_count": 23,
   "id": "876b77be-978c-45eb-9413-c4fda5a9888b",
   "metadata": {},
   "outputs": [
    {
     "name": "stdout",
     "output_type": "stream",
     "text": [
      " * * * * * \n",
      "  * * * * \n",
      "   * * * \n",
      "    * * \n",
      "     * \n",
      "      \n"
     ]
    }
   ],
   "source": [
    "n = 6  \n",
    "\n",
    "for i in range(1, n + 1):\n",
    "    # print(i)\n",
    "    print(\" \" * i, end=\"\")  \n",
    "    print(\"* \" * n-i))  "
   ]
  },
  {
   "cell_type": "code",
   "execution_count": null,
   "id": "4e4a51d9-58c8-4d34-95ac-318bf6c83431",
   "metadata": {},
   "outputs": [],
   "source": []
  }
 ],
 "metadata": {
  "kernelspec": {
   "display_name": "Python 3 (ipykernel)",
   "language": "python",
   "name": "python3"
  },
  "language_info": {
   "codemirror_mode": {
    "name": "ipython",
    "version": 3
   },
   "file_extension": ".py",
   "mimetype": "text/x-python",
   "name": "python",
   "nbconvert_exporter": "python",
   "pygments_lexer": "ipython3",
   "version": "3.12.4"
  }
 },
 "nbformat": 4,
 "nbformat_minor": 5
}
